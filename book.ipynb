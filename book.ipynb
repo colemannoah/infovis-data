{
 "cells": [
  {
   "cell_type": "code",
   "execution_count": 14,
   "metadata": {},
   "outputs": [],
   "source": [
    "import pandas as pd"
   ]
  },
  {
   "cell_type": "code",
   "execution_count": 15,
   "metadata": {},
   "outputs": [
    {
     "data": {
      "text/html": [
       "<div>\n",
       "<style scoped>\n",
       "    .dataframe tbody tr th:only-of-type {\n",
       "        vertical-align: middle;\n",
       "    }\n",
       "\n",
       "    .dataframe tbody tr th {\n",
       "        vertical-align: top;\n",
       "    }\n",
       "\n",
       "    .dataframe thead th {\n",
       "        text-align: right;\n",
       "    }\n",
       "</style>\n",
       "<table border=\"1\" class=\"dataframe\">\n",
       "  <thead>\n",
       "    <tr style=\"text-align: right;\">\n",
       "      <th></th>\n",
       "      <th>url</th>\n",
       "      <th>week_id</th>\n",
       "      <th>week_position</th>\n",
       "      <th>song</th>\n",
       "      <th>performer</th>\n",
       "      <th>song_id</th>\n",
       "      <th>instance</th>\n",
       "      <th>previous_week_position</th>\n",
       "      <th>peak_position</th>\n",
       "      <th>weeks_on_chart</th>\n",
       "    </tr>\n",
       "  </thead>\n",
       "  <tbody>\n",
       "    <tr>\n",
       "      <th>0</th>\n",
       "      <td>http://www.billboard.com/charts/hot-100/1965-0...</td>\n",
       "      <td>7/17/1965</td>\n",
       "      <td>34</td>\n",
       "      <td>Don't Just Stand There</td>\n",
       "      <td>Patty Duke</td>\n",
       "      <td>Don't Just Stand TherePatty Duke</td>\n",
       "      <td>1</td>\n",
       "      <td>45.0</td>\n",
       "      <td>34</td>\n",
       "      <td>4</td>\n",
       "    </tr>\n",
       "    <tr>\n",
       "      <th>1</th>\n",
       "      <td>http://www.billboard.com/charts/hot-100/1965-0...</td>\n",
       "      <td>7/24/1965</td>\n",
       "      <td>22</td>\n",
       "      <td>Don't Just Stand There</td>\n",
       "      <td>Patty Duke</td>\n",
       "      <td>Don't Just Stand TherePatty Duke</td>\n",
       "      <td>1</td>\n",
       "      <td>34.0</td>\n",
       "      <td>22</td>\n",
       "      <td>5</td>\n",
       "    </tr>\n",
       "    <tr>\n",
       "      <th>2</th>\n",
       "      <td>http://www.billboard.com/charts/hot-100/1965-0...</td>\n",
       "      <td>7/31/1965</td>\n",
       "      <td>14</td>\n",
       "      <td>Don't Just Stand There</td>\n",
       "      <td>Patty Duke</td>\n",
       "      <td>Don't Just Stand TherePatty Duke</td>\n",
       "      <td>1</td>\n",
       "      <td>22.0</td>\n",
       "      <td>14</td>\n",
       "      <td>6</td>\n",
       "    </tr>\n",
       "    <tr>\n",
       "      <th>3</th>\n",
       "      <td>http://www.billboard.com/charts/hot-100/1965-0...</td>\n",
       "      <td>8/7/1965</td>\n",
       "      <td>10</td>\n",
       "      <td>Don't Just Stand There</td>\n",
       "      <td>Patty Duke</td>\n",
       "      <td>Don't Just Stand TherePatty Duke</td>\n",
       "      <td>1</td>\n",
       "      <td>14.0</td>\n",
       "      <td>10</td>\n",
       "      <td>7</td>\n",
       "    </tr>\n",
       "    <tr>\n",
       "      <th>4</th>\n",
       "      <td>http://www.billboard.com/charts/hot-100/1965-0...</td>\n",
       "      <td>8/14/1965</td>\n",
       "      <td>8</td>\n",
       "      <td>Don't Just Stand There</td>\n",
       "      <td>Patty Duke</td>\n",
       "      <td>Don't Just Stand TherePatty Duke</td>\n",
       "      <td>1</td>\n",
       "      <td>10.0</td>\n",
       "      <td>8</td>\n",
       "      <td>8</td>\n",
       "    </tr>\n",
       "  </tbody>\n",
       "</table>\n",
       "</div>"
      ],
      "text/plain": [
       "                                                 url    week_id  \\\n",
       "0  http://www.billboard.com/charts/hot-100/1965-0...  7/17/1965   \n",
       "1  http://www.billboard.com/charts/hot-100/1965-0...  7/24/1965   \n",
       "2  http://www.billboard.com/charts/hot-100/1965-0...  7/31/1965   \n",
       "3  http://www.billboard.com/charts/hot-100/1965-0...   8/7/1965   \n",
       "4  http://www.billboard.com/charts/hot-100/1965-0...  8/14/1965   \n",
       "\n",
       "   week_position                    song   performer  \\\n",
       "0             34  Don't Just Stand There  Patty Duke   \n",
       "1             22  Don't Just Stand There  Patty Duke   \n",
       "2             14  Don't Just Stand There  Patty Duke   \n",
       "3             10  Don't Just Stand There  Patty Duke   \n",
       "4              8  Don't Just Stand There  Patty Duke   \n",
       "\n",
       "                            song_id  instance  previous_week_position  \\\n",
       "0  Don't Just Stand TherePatty Duke         1                    45.0   \n",
       "1  Don't Just Stand TherePatty Duke         1                    34.0   \n",
       "2  Don't Just Stand TherePatty Duke         1                    22.0   \n",
       "3  Don't Just Stand TherePatty Duke         1                    14.0   \n",
       "4  Don't Just Stand TherePatty Duke         1                    10.0   \n",
       "\n",
       "   peak_position  weeks_on_chart  \n",
       "0             34               4  \n",
       "1             22               5  \n",
       "2             14               6  \n",
       "3             10               7  \n",
       "4              8               8  "
      ]
     },
     "execution_count": 15,
     "metadata": {},
     "output_type": "execute_result"
    }
   ],
   "source": [
    "df = pd.read_csv('billboard.csv')\n",
    "df.head()"
   ]
  },
  {
   "cell_type": "code",
   "execution_count": 16,
   "metadata": {},
   "outputs": [],
   "source": [
    "df.drop(columns=['url', 'song_id'], inplace=True)"
   ]
  },
  {
   "cell_type": "code",
   "execution_count": 17,
   "metadata": {},
   "outputs": [],
   "source": [
    "df['song_id'] = df['song'].str.cat(df['performer'], sep=' - ')"
   ]
  },
  {
   "cell_type": "code",
   "execution_count": 18,
   "metadata": {},
   "outputs": [],
   "source": [
    "# Only keep entries within the last 10 years, the dates are stored in the week_id column\n",
    "df['week_id'] = pd.to_datetime(df['week_id'])\n",
    "df = df[df['week_id'] > '2000-01-01']"
   ]
  },
  {
   "cell_type": "code",
   "execution_count": 19,
   "metadata": {},
   "outputs": [
    {
     "data": {
      "text/plain": [
       "111700"
      ]
     },
     "execution_count": 19,
     "metadata": {},
     "output_type": "execute_result"
    }
   ],
   "source": [
    "df.shape[0]"
   ]
  },
  {
   "cell_type": "code",
   "execution_count": 20,
   "metadata": {},
   "outputs": [],
   "source": [
    "df.to_csv('billboard_cleaned.csv', index=False)"
   ]
  }
 ],
 "metadata": {
  "kernelspec": {
   "display_name": "Python 3",
   "language": "python",
   "name": "python3"
  },
  "language_info": {
   "codemirror_mode": {
    "name": "ipython",
    "version": 3
   },
   "file_extension": ".py",
   "mimetype": "text/x-python",
   "name": "python",
   "nbconvert_exporter": "python",
   "pygments_lexer": "ipython3",
   "version": "3.9.20"
  }
 },
 "nbformat": 4,
 "nbformat_minor": 2
}
