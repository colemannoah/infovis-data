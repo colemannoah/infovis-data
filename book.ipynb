{
 "cells": [
  {
   "cell_type": "code",
   "execution_count": 22,
   "metadata": {},
   "outputs": [],
   "source": [
    "import pandas as pd"
   ]
  },
  {
   "cell_type": "code",
   "execution_count": 23,
   "metadata": {},
   "outputs": [],
   "source": [
    "df = pd.read_csv('starbucks.csv')"
   ]
  },
  {
   "cell_type": "code",
   "execution_count": 24,
   "metadata": {},
   "outputs": [
    {
     "data": {
      "text/plain": [
       "product_name       0\n",
       "size               0\n",
       "milk               0\n",
       "whip               0\n",
       "serv_size_m_l      0\n",
       "calories           0\n",
       "total_fat_g        0\n",
       "saturated_fat_g    0\n",
       "trans_fat_g        0\n",
       "cholesterol_mg     0\n",
       "sodium_mg          0\n",
       "total_carbs_g      0\n",
       "fiber_g            0\n",
       "sugar_g            0\n",
       "caffeine_mg        0\n",
       "dtype: int64"
      ]
     },
     "execution_count": 24,
     "metadata": {},
     "output_type": "execute_result"
    }
   ],
   "source": [
    "df.isnull().sum()"
   ]
  },
  {
   "cell_type": "code",
   "execution_count": 25,
   "metadata": {},
   "outputs": [
    {
     "data": {
      "text/plain": [
       "Index(['product_name', 'size', 'milk', 'whip', 'serv_size_m_l', 'calories',\n",
       "       'total_fat_g', 'saturated_fat_g', 'trans_fat_g', 'cholesterol_mg',\n",
       "       'sodium_mg', 'total_carbs_g', 'fiber_g', 'sugar_g', 'caffeine_mg'],\n",
       "      dtype='object')"
      ]
     },
     "execution_count": 25,
     "metadata": {},
     "output_type": "execute_result"
    }
   ],
   "source": [
    "df.columns"
   ]
  },
  {
   "cell_type": "code",
   "execution_count": 26,
   "metadata": {},
   "outputs": [
    {
     "data": {
      "text/plain": [
       "dtype('O')"
      ]
     },
     "execution_count": 26,
     "metadata": {},
     "output_type": "execute_result"
    }
   ],
   "source": [
    "milk_map = {\n",
    "    0: 'No Milk',\n",
    "    1: 'Non-fat Milk',\n",
    "    2: '2% Milk',\n",
    "    3: 'Soy Milk',\n",
    "    4: 'Coconut Milk',\n",
    "    5: 'Whole Milk'\n",
    "}\n",
    "\n",
    "df['milk'] = df['milk'].map(milk_map)\n",
    "df['milk'].dtype"
   ]
  },
  {
   "cell_type": "code",
   "execution_count": 27,
   "metadata": {},
   "outputs": [
    {
     "data": {
      "text/plain": [
       "milk\n",
       "Non-fat Milk    222\n",
       "2% Milk         190\n",
       "Whole Milk      190\n",
       "Soy Milk        190\n",
       "Coconut Milk    190\n",
       "No Milk         165\n",
       "Name: count, dtype: int64"
      ]
     },
     "execution_count": 27,
     "metadata": {},
     "output_type": "execute_result"
    }
   ],
   "source": [
    "df['milk'].value_counts()"
   ]
  },
  {
   "cell_type": "code",
   "execution_count": 28,
   "metadata": {},
   "outputs": [],
   "source": [
    "df.to_csv('starbucks_clean.csv', index=False)"
   ]
  }
 ],
 "metadata": {
  "kernelspec": {
   "display_name": "Python 3",
   "language": "python",
   "name": "python3"
  },
  "language_info": {
   "codemirror_mode": {
    "name": "ipython",
    "version": 3
   },
   "file_extension": ".py",
   "mimetype": "text/x-python",
   "name": "python",
   "nbconvert_exporter": "python",
   "pygments_lexer": "ipython3",
   "version": "3.9.20"
  }
 },
 "nbformat": 4,
 "nbformat_minor": 2
}
